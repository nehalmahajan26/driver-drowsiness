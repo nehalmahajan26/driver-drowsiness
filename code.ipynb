{
 "cells": [
  {
   "cell_type": "code",
   "execution_count": 1,
   "metadata": {
    "_cell_guid": "b1076dfc-b9ad-4769-8c92-a6c4dae69d19",
    "_uuid": "8f2839f25d086af736a60e9eeb907d3b93b6e0e5",
    "execution": {
     "iopub.execute_input": "2024-11-16T08:11:34.889662Z",
     "iopub.status.busy": "2024-11-16T08:11:34.888899Z",
     "iopub.status.idle": "2024-11-16T08:11:35.967883Z",
     "shell.execute_reply": "2024-11-16T08:11:35.966639Z",
     "shell.execute_reply.started": "2024-11-16T08:11:34.889608Z"
    },
    "trusted": true
   },
   "outputs": [
    {
     "name": "stdout",
     "output_type": "stream",
     "text": [
      "drowsiness-dataset  prediction-images\n"
     ]
    }
   ],
   "source": [
    "!ls /kaggle/input/drowsiness-dataset"
   ]
  },
  {
   "cell_type": "code",
   "execution_count": 2,
   "metadata": {
    "execution": {
     "iopub.execute_input": "2024-11-16T08:12:27.864470Z",
     "iopub.status.busy": "2024-11-16T08:12:27.863624Z",
     "iopub.status.idle": "2024-11-16T08:12:27.869245Z",
     "shell.execute_reply": "2024-11-16T08:12:27.867995Z",
     "shell.execute_reply.started": "2024-11-16T08:12:27.864424Z"
    },
    "trusted": true
   },
   "outputs": [],
   "source": [
    "base_path = '/kaggle/input/drowsiness-dataset/'"
   ]
  },
  {
   "cell_type": "code",
   "execution_count": 3,
   "metadata": {
    "execution": {
     "iopub.execute_input": "2024-11-16T08:12:31.130340Z",
     "iopub.status.busy": "2024-11-16T08:12:31.129345Z",
     "iopub.status.idle": "2024-11-16T08:12:57.804224Z",
     "shell.execute_reply": "2024-11-16T08:12:57.802790Z",
     "shell.execute_reply.started": "2024-11-16T08:12:31.130297Z"
    },
    "trusted": true
   },
   "outputs": [
    {
     "name": "stdout",
     "output_type": "stream",
     "text": [
      "Collecting opendatasets\n",
      "  Downloading opendatasets-0.1.22-py3-none-any.whl.metadata (9.2 kB)\n",
      "Requirement already satisfied: tqdm in /opt/conda/lib/python3.10/site-packages (from opendatasets) (4.66.4)\n",
      "Requirement already satisfied: kaggle in /opt/conda/lib/python3.10/site-packages (from opendatasets) (1.6.17)\n",
      "Requirement already satisfied: click in /opt/conda/lib/python3.10/site-packages (from opendatasets) (8.1.7)\n",
      "Requirement already satisfied: six>=1.10 in /opt/conda/lib/python3.10/site-packages (from kaggle->opendatasets) (1.16.0)\n",
      "Requirement already satisfied: certifi>=2023.7.22 in /opt/conda/lib/python3.10/site-packages (from kaggle->opendatasets) (2024.8.30)\n",
      "Requirement already satisfied: python-dateutil in /opt/conda/lib/python3.10/site-packages (from kaggle->opendatasets) (2.9.0.post0)\n",
      "Requirement already satisfied: requests in /opt/conda/lib/python3.10/site-packages (from kaggle->opendatasets) (2.32.3)\n",
      "Requirement already satisfied: python-slugify in /opt/conda/lib/python3.10/site-packages (from kaggle->opendatasets) (8.0.4)\n",
      "Requirement already satisfied: urllib3 in /opt/conda/lib/python3.10/site-packages (from kaggle->opendatasets) (1.26.18)\n",
      "Requirement already satisfied: bleach in /opt/conda/lib/python3.10/site-packages (from kaggle->opendatasets) (6.1.0)\n",
      "Requirement already satisfied: webencodings in /opt/conda/lib/python3.10/site-packages (from bleach->kaggle->opendatasets) (0.5.1)\n",
      "Requirement already satisfied: text-unidecode>=1.3 in /opt/conda/lib/python3.10/site-packages (from python-slugify->kaggle->opendatasets) (1.3)\n",
      "Requirement already satisfied: charset-normalizer<4,>=2 in /opt/conda/lib/python3.10/site-packages (from requests->kaggle->opendatasets) (3.3.2)\n",
      "Requirement already satisfied: idna<4,>=2.5 in /opt/conda/lib/python3.10/site-packages (from requests->kaggle->opendatasets) (3.7)\n",
      "Downloading opendatasets-0.1.22-py3-none-any.whl (15 kB)\n",
      "Installing collected packages: opendatasets\n",
      "Successfully installed opendatasets-0.1.22\n",
      "Requirement already satisfied: pandas in /opt/conda/lib/python3.10/site-packages (2.2.2)\n",
      "Requirement already satisfied: numpy>=1.22.4 in /opt/conda/lib/python3.10/site-packages (from pandas) (1.26.4)\n",
      "Requirement already satisfied: python-dateutil>=2.8.2 in /opt/conda/lib/python3.10/site-packages (from pandas) (2.9.0.post0)\n",
      "Requirement already satisfied: pytz>=2020.1 in /opt/conda/lib/python3.10/site-packages (from pandas) (2024.1)\n",
      "Requirement already satisfied: tzdata>=2022.7 in /opt/conda/lib/python3.10/site-packages (from pandas) (2024.1)\n",
      "Requirement already satisfied: six>=1.5 in /opt/conda/lib/python3.10/site-packages (from python-dateutil>=2.8.2->pandas) (1.16.0)\n"
     ]
    }
   ],
   "source": [
    "import requests\n",
    "from IPython.display import Image\n",
    "import numpy as np\n",
    "import pandas as pd \n",
    "import os\n",
    "import cv2\n",
    "!pip install opendatasets \n",
    "!pip install pandas\n"
   ]
  },
  {
   "cell_type": "code",
   "execution_count": null,
   "metadata": {
    "execution": {
     "iopub.execute_input": "2024-11-16T08:14:11.706978Z",
     "iopub.status.busy": "2024-11-16T08:14:11.706574Z",
     "iopub.status.idle": "2024-11-16T08:15:42.725317Z",
     "shell.execute_reply": "2024-11-16T08:15:42.724434Z",
     "shell.execute_reply.started": "2024-11-16T08:14:11.706940Z"
    },
    "trusted": true
   },
   "outputs": [
    {
     "name": "stdout",
     "output_type": "stream",
     "text": [
      "0\n",
      "1\n"
     ]
    }
   ],
   "source": [
    "def face_for_yawn(direc=f\"{base_path}/drowsiness-dataset/drowsiness-dataset/train\", face_cas_path=f\"{base_path}/prediction-images/haarcascade_frontalface_default.xml\"):\n",
    "    yaw_no = []  \n",
    "    IMG_SIZE = 145  \n",
    "    categories = [\"yawn\", \"no_yawn\"]  s\n",
    "    for category in categories:\n",
    "        path_link = os.path.join(direc, category)  \n",
    "        class_num1 = categories.index(category)  \n",
    "        print(class_num1)  \n",
    "        for image in os.listdir(path_link):  \n",
    "            image_array = cv2.imread(os.path.join(path_link, image), cv2.IMREAD_COLOR)  \n",
    "            face_cascade = cv2.CascadeClassifier(face_cas_path)  \n",
    "            faces = face_cascade.detectMultiScale(image_array, 1.3, 5)  \n",
    "            for (x, y, w, h) in faces:\n",
    "                img = cv2.rectangle(image_array, (x, y), (x+w, y+h), (0, 255, 0), 2)  \n",
    "                roi_color = img[y:y+h, x:x+w]  \n",
    "                resized_array = cv2.resize(roi_color, (IMG_SIZE, IMG_SIZE))  \n",
    "                yaw_no.append([resized_array, class_num1])  \n",
    "    return yaw_no  \n",
    "\n",
    "yawn_no_yawn = face_for_yawn()  "
   ]
  },
  {
   "cell_type": "code",
   "execution_count": null,
   "metadata": {
    "execution": {
     "iopub.execute_input": "2024-11-16T08:15:52.244084Z",
     "iopub.status.busy": "2024-11-16T08:15:52.243332Z",
     "iopub.status.idle": "2024-11-16T08:15:52.252567Z",
     "shell.execute_reply": "2024-11-16T08:15:52.251495Z",
     "shell.execute_reply.started": "2024-11-16T08:15:52.244044Z"
    },
    "trusted": true
   },
   "outputs": [],
   "source": [
    "def get_data(dir_path=f\"{base_path}/drowsiness-dataset/drowsiness-dataset/train/\", face_cas=f\"{base_path}/prediction-images/haarcascade_frontalface_default.xml\", eye_cas=f\"{base_path}/prediction-images/haarcascade.xml\"):\n",
    "\n",
    "    labels = ['Closed', 'Open']\n",
    "    IMG_SIZE = 145\n",
    "    data = []\n",
    "    for label in labels:\n",
    "        path = os.path.join(dir_path, label)\n",
    "        class_num = labels.index(label)\n",
    "        class_num += 2\n",
    "        for img in os.listdir(path):\n",
    "            try:\n",
    "                img_array = cv2.imread(os.path.join(path, img), cv2.IMREAD_COLOR)\n",
    "                resized_array = cv2.resize(img_array, (IMG_SIZE, IMG_SIZE))\n",
    "                data.append([resized_array, class_num])\n",
    "            except Exception as e:\n",
    "                print(e)\n",
    "    return data"
   ]
  },
  {
   "cell_type": "code",
   "execution_count": 7,
   "metadata": {
    "execution": {
     "iopub.execute_input": "2024-11-16T08:15:58.557816Z",
     "iopub.status.busy": "2024-11-16T08:15:58.557043Z",
     "iopub.status.idle": "2024-11-16T08:16:07.190587Z",
     "shell.execute_reply": "2024-11-16T08:16:07.189725Z",
     "shell.execute_reply.started": "2024-11-16T08:15:58.557760Z"
    },
    "trusted": true
   },
   "outputs": [],
   "source": [
    "data_train = get_data()"
   ]
  },
  {
   "cell_type": "code",
   "execution_count": 8,
   "metadata": {
    "execution": {
     "iopub.execute_input": "2024-11-16T08:16:12.377059Z",
     "iopub.status.busy": "2024-11-16T08:16:12.376349Z",
     "iopub.status.idle": "2024-11-16T08:17:38.645201Z",
     "shell.execute_reply": "2024-11-16T08:17:38.644279Z",
     "shell.execute_reply.started": "2024-11-16T08:16:12.377016Z"
    },
    "trusted": true
   },
   "outputs": [
    {
     "name": "stdout",
     "output_type": "stream",
     "text": [
      "0\n",
      "1\n"
     ]
    }
   ],
   "source": [
    "import numpy as np\n",
    "\n",
    "def append_data():\n",
    "    yaw_no = face_for_yawn()\n",
    "    \n",
    "    data = get_data()\n",
    "    \n",
    "    yaw_no.extend(data)\n",
    "    \n",
    "    final_data = []\n",
    "\n",
    "    for img, label in yaw_no:\n",
    "        final_data.append([np.array(img), np.array(label)])  # make sure both img and label are numpy arrays\n",
    "\n",
    "    \n",
    "    return np.array(final_data, dtype=object)\n",
    "new_data = append_data()"
   ]
  },
  {
   "cell_type": "code",
   "execution_count": null,
   "metadata": {
    "execution": {
     "iopub.execute_input": "2024-11-16T08:19:17.383559Z",
     "iopub.status.busy": "2024-11-16T08:19:17.382763Z",
     "iopub.status.idle": "2024-11-16T08:19:18.046667Z",
     "shell.execute_reply": "2024-11-16T08:19:18.045790Z",
     "shell.execute_reply.started": "2024-11-16T08:19:17.383515Z"
    },
    "trusted": true
   },
   "outputs": [],
   "source": [
    "\n",
    "X = []\n",
    "y = []\n",
    "for feature, label in new_data:\n",
    "    X.append(feature)\n",
    "    y.append(int(label))  # Convert label to int\n",
    "\n",
    "X = np.array(X)\n",
    "X = X.reshape(-1, 145, 145, 3)\n",
    "\n",
    "from sklearn.preprocessing import LabelBinarizer\n",
    "label_bin = LabelBinarizer()\n",
    "y = label_bin.fit_transform(y)"
   ]
  },
  {
   "cell_type": "code",
   "execution_count": 10,
   "metadata": {
    "execution": {
     "iopub.execute_input": "2024-11-16T08:19:19.492793Z",
     "iopub.status.busy": "2024-11-16T08:19:19.492243Z",
     "iopub.status.idle": "2024-11-16T08:19:19.497698Z",
     "shell.execute_reply": "2024-11-16T08:19:19.496549Z",
     "shell.execute_reply.started": "2024-11-16T08:19:19.492753Z"
    },
    "trusted": true
   },
   "outputs": [],
   "source": [
    "y = np.array(y)"
   ]
  },
  {
   "cell_type": "code",
   "execution_count": 11,
   "metadata": {
    "execution": {
     "iopub.execute_input": "2024-11-16T08:19:21.943626Z",
     "iopub.status.busy": "2024-11-16T08:19:21.942888Z",
     "iopub.status.idle": "2024-11-16T08:19:22.063929Z",
     "shell.execute_reply": "2024-11-16T08:19:22.063067Z",
     "shell.execute_reply.started": "2024-11-16T08:19:21.943582Z"
    },
    "trusted": true
   },
   "outputs": [],
   "source": [
    "from sklearn.model_selection import train_test_split\n",
    "seed = 42\n",
    "test_size = 0.30\n",
    "X_train, X_test, y_train, y_test = train_test_split(X, y, random_state=seed, test_size=test_size)"
   ]
  },
  {
   "cell_type": "code",
   "execution_count": 12,
   "metadata": {
    "execution": {
     "iopub.execute_input": "2024-11-16T08:19:23.581210Z",
     "iopub.status.busy": "2024-11-16T08:19:23.580167Z",
     "iopub.status.idle": "2024-11-16T08:19:35.841001Z",
     "shell.execute_reply": "2024-11-16T08:19:35.840030Z",
     "shell.execute_reply.started": "2024-11-16T08:19:23.581163Z"
    },
    "trusted": true
   },
   "outputs": [],
   "source": [
    "from tensorflow.keras.layers import Input, Lambda, Dense, Flatten, Conv2D, MaxPooling2D, Dropout\n",
    "from tensorflow.keras.models import Model\n",
    "from tensorflow.keras.models import Sequential\n",
    "from tensorflow.keras.preprocessing.image import ImageDataGenerator  # Updated import\n",
    "import tensorflow as tf"
   ]
  },
  {
   "cell_type": "code",
   "execution_count": null,
   "metadata": {
    "execution": {
     "iopub.execute_input": "2024-11-16T08:19:35.843376Z",
     "iopub.status.busy": "2024-11-16T08:19:35.842739Z",
     "iopub.status.idle": "2024-11-16T08:19:36.012593Z",
     "shell.execute_reply": "2024-11-16T08:19:36.011701Z",
     "shell.execute_reply.started": "2024-11-16T08:19:35.843338Z"
    },
    "trusted": true
   },
   "outputs": [],
   "source": [
    "train_generator = ImageDataGenerator(rescale=1/255, zoom_range=0.2, horizontal_flip=True, rotation_range=30)\n",
    "test_generator = ImageDataGenerator(rescale=1/255)\n",
    "train_generator = train_generator.flow(np.array(X_train), y_train, shuffle=False)\n",
    "test_generator = test_generator.flow(np.array(X_test), y_test, shuffle=False)"
   ]
  },
  {
   "cell_type": "code",
   "execution_count": null,
   "metadata": {
    "execution": {
     "iopub.execute_input": "2024-11-16T08:19:41.710556Z",
     "iopub.status.busy": "2024-11-16T08:19:41.710167Z",
     "iopub.status.idle": "2024-11-16T08:19:42.707118Z",
     "shell.execute_reply": "2024-11-16T08:19:42.706224Z",
     "shell.execute_reply.started": "2024-11-16T08:19:41.710521Z"
    },
    "trusted": true
   },
   "outputs": [
    {
     "name": "stderr",
     "output_type": "stream",
     "text": [
      "/opt/conda/lib/python3.10/site-packages/keras/src/layers/convolutional/base_conv.py:107: UserWarning: Do not pass an `input_shape`/`input_dim` argument to a layer. When using Sequential models, prefer using an `Input(shape)` object as the first layer in the model instead.\n",
      "  super().__init__(activity_regularizer=activity_regularizer, **kwargs)\n"
     ]
    },
    {
     "data": {
      "text/html": [
       "<pre style=\"white-space:pre;overflow-x:auto;line-height:normal;font-family:Menlo,'DejaVu Sans Mono',consolas,'Courier New',monospace\"><span style=\"font-weight: bold\">Model: \"sequential\"</span>\n",
       "</pre>\n"
      ],
      "text/plain": [
       "\u001b[1mModel: \"sequential\"\u001b[0m\n"
      ]
     },
     "metadata": {},
     "output_type": "display_data"
    },
    {
     "data": {
      "text/html": [
       "<pre style=\"white-space:pre;overflow-x:auto;line-height:normal;font-family:Menlo,'DejaVu Sans Mono',consolas,'Courier New',monospace\">┏━━━━━━━━━━━━━━━━━━━━━━━━━━━━━━━━━┳━━━━━━━━━━━━━━━━━━━━━━━━┳━━━━━━━━━━━━━━━┓\n",
       "┃<span style=\"font-weight: bold\"> Layer (type)                    </span>┃<span style=\"font-weight: bold\"> Output Shape           </span>┃<span style=\"font-weight: bold\">       Param # </span>┃\n",
       "┡━━━━━━━━━━━━━━━━━━━━━━━━━━━━━━━━━╇━━━━━━━━━━━━━━━━━━━━━━━━╇━━━━━━━━━━━━━━━┩\n",
       "│ conv2d (<span style=\"color: #0087ff; text-decoration-color: #0087ff\">Conv2D</span>)                 │ (<span style=\"color: #00d7ff; text-decoration-color: #00d7ff\">None</span>, <span style=\"color: #00af00; text-decoration-color: #00af00\">143</span>, <span style=\"color: #00af00; text-decoration-color: #00af00\">143</span>, <span style=\"color: #00af00; text-decoration-color: #00af00\">512</span>)  │        <span style=\"color: #00af00; text-decoration-color: #00af00\">14,336</span> │\n",
       "├─────────────────────────────────┼────────────────────────┼───────────────┤\n",
       "│ max_pooling2d (<span style=\"color: #0087ff; text-decoration-color: #0087ff\">MaxPooling2D</span>)    │ (<span style=\"color: #00d7ff; text-decoration-color: #00d7ff\">None</span>, <span style=\"color: #00af00; text-decoration-color: #00af00\">71</span>, <span style=\"color: #00af00; text-decoration-color: #00af00\">71</span>, <span style=\"color: #00af00; text-decoration-color: #00af00\">512</span>)    │             <span style=\"color: #00af00; text-decoration-color: #00af00\">0</span> │\n",
       "├─────────────────────────────────┼────────────────────────┼───────────────┤\n",
       "│ conv2d_1 (<span style=\"color: #0087ff; text-decoration-color: #0087ff\">Conv2D</span>)               │ (<span style=\"color: #00d7ff; text-decoration-color: #00d7ff\">None</span>, <span style=\"color: #00af00; text-decoration-color: #00af00\">69</span>, <span style=\"color: #00af00; text-decoration-color: #00af00\">69</span>, <span style=\"color: #00af00; text-decoration-color: #00af00\">512</span>)    │     <span style=\"color: #00af00; text-decoration-color: #00af00\">2,359,808</span> │\n",
       "├─────────────────────────────────┼────────────────────────┼───────────────┤\n",
       "│ max_pooling2d_1 (<span style=\"color: #0087ff; text-decoration-color: #0087ff\">MaxPooling2D</span>)  │ (<span style=\"color: #00d7ff; text-decoration-color: #00d7ff\">None</span>, <span style=\"color: #00af00; text-decoration-color: #00af00\">34</span>, <span style=\"color: #00af00; text-decoration-color: #00af00\">34</span>, <span style=\"color: #00af00; text-decoration-color: #00af00\">512</span>)    │             <span style=\"color: #00af00; text-decoration-color: #00af00\">0</span> │\n",
       "├─────────────────────────────────┼────────────────────────┼───────────────┤\n",
       "│ conv2d_2 (<span style=\"color: #0087ff; text-decoration-color: #0087ff\">Conv2D</span>)               │ (<span style=\"color: #00d7ff; text-decoration-color: #00d7ff\">None</span>, <span style=\"color: #00af00; text-decoration-color: #00af00\">32</span>, <span style=\"color: #00af00; text-decoration-color: #00af00\">32</span>, <span style=\"color: #00af00; text-decoration-color: #00af00\">256</span>)    │     <span style=\"color: #00af00; text-decoration-color: #00af00\">1,179,904</span> │\n",
       "├─────────────────────────────────┼────────────────────────┼───────────────┤\n",
       "│ max_pooling2d_2 (<span style=\"color: #0087ff; text-decoration-color: #0087ff\">MaxPooling2D</span>)  │ (<span style=\"color: #00d7ff; text-decoration-color: #00d7ff\">None</span>, <span style=\"color: #00af00; text-decoration-color: #00af00\">16</span>, <span style=\"color: #00af00; text-decoration-color: #00af00\">16</span>, <span style=\"color: #00af00; text-decoration-color: #00af00\">256</span>)    │             <span style=\"color: #00af00; text-decoration-color: #00af00\">0</span> │\n",
       "├─────────────────────────────────┼────────────────────────┼───────────────┤\n",
       "│ conv2d_3 (<span style=\"color: #0087ff; text-decoration-color: #0087ff\">Conv2D</span>)               │ (<span style=\"color: #00d7ff; text-decoration-color: #00d7ff\">None</span>, <span style=\"color: #00af00; text-decoration-color: #00af00\">14</span>, <span style=\"color: #00af00; text-decoration-color: #00af00\">14</span>, <span style=\"color: #00af00; text-decoration-color: #00af00\">256</span>)    │       <span style=\"color: #00af00; text-decoration-color: #00af00\">590,080</span> │\n",
       "├─────────────────────────────────┼────────────────────────┼───────────────┤\n",
       "│ max_pooling2d_3 (<span style=\"color: #0087ff; text-decoration-color: #0087ff\">MaxPooling2D</span>)  │ (<span style=\"color: #00d7ff; text-decoration-color: #00d7ff\">None</span>, <span style=\"color: #00af00; text-decoration-color: #00af00\">7</span>, <span style=\"color: #00af00; text-decoration-color: #00af00\">7</span>, <span style=\"color: #00af00; text-decoration-color: #00af00\">256</span>)      │             <span style=\"color: #00af00; text-decoration-color: #00af00\">0</span> │\n",
       "├─────────────────────────────────┼────────────────────────┼───────────────┤\n",
       "│ conv2d_4 (<span style=\"color: #0087ff; text-decoration-color: #0087ff\">Conv2D</span>)               │ (<span style=\"color: #00d7ff; text-decoration-color: #00d7ff\">None</span>, <span style=\"color: #00af00; text-decoration-color: #00af00\">5</span>, <span style=\"color: #00af00; text-decoration-color: #00af00\">5</span>, <span style=\"color: #00af00; text-decoration-color: #00af00\">256</span>)      │       <span style=\"color: #00af00; text-decoration-color: #00af00\">590,080</span> │\n",
       "├─────────────────────────────────┼────────────────────────┼───────────────┤\n",
       "│ max_pooling2d_4 (<span style=\"color: #0087ff; text-decoration-color: #0087ff\">MaxPooling2D</span>)  │ (<span style=\"color: #00d7ff; text-decoration-color: #00d7ff\">None</span>, <span style=\"color: #00af00; text-decoration-color: #00af00\">2</span>, <span style=\"color: #00af00; text-decoration-color: #00af00\">2</span>, <span style=\"color: #00af00; text-decoration-color: #00af00\">256</span>)      │             <span style=\"color: #00af00; text-decoration-color: #00af00\">0</span> │\n",
       "├─────────────────────────────────┼────────────────────────┼───────────────┤\n",
       "│ flatten (<span style=\"color: #0087ff; text-decoration-color: #0087ff\">Flatten</span>)               │ (<span style=\"color: #00d7ff; text-decoration-color: #00d7ff\">None</span>, <span style=\"color: #00af00; text-decoration-color: #00af00\">1024</span>)           │             <span style=\"color: #00af00; text-decoration-color: #00af00\">0</span> │\n",
       "├─────────────────────────────────┼────────────────────────┼───────────────┤\n",
       "│ dropout (<span style=\"color: #0087ff; text-decoration-color: #0087ff\">Dropout</span>)               │ (<span style=\"color: #00d7ff; text-decoration-color: #00d7ff\">None</span>, <span style=\"color: #00af00; text-decoration-color: #00af00\">1024</span>)           │             <span style=\"color: #00af00; text-decoration-color: #00af00\">0</span> │\n",
       "├─────────────────────────────────┼────────────────────────┼───────────────┤\n",
       "│ dense (<span style=\"color: #0087ff; text-decoration-color: #0087ff\">Dense</span>)                   │ (<span style=\"color: #00d7ff; text-decoration-color: #00d7ff\">None</span>, <span style=\"color: #00af00; text-decoration-color: #00af00\">128</span>)            │       <span style=\"color: #00af00; text-decoration-color: #00af00\">131,200</span> │\n",
       "├─────────────────────────────────┼────────────────────────┼───────────────┤\n",
       "│ dense_1 (<span style=\"color: #0087ff; text-decoration-color: #0087ff\">Dense</span>)                 │ (<span style=\"color: #00d7ff; text-decoration-color: #00d7ff\">None</span>, <span style=\"color: #00af00; text-decoration-color: #00af00\">64</span>)             │         <span style=\"color: #00af00; text-decoration-color: #00af00\">8,256</span> │\n",
       "├─────────────────────────────────┼────────────────────────┼───────────────┤\n",
       "│ dense_2 (<span style=\"color: #0087ff; text-decoration-color: #0087ff\">Dense</span>)                 │ (<span style=\"color: #00d7ff; text-decoration-color: #00d7ff\">None</span>, <span style=\"color: #00af00; text-decoration-color: #00af00\">4</span>)              │           <span style=\"color: #00af00; text-decoration-color: #00af00\">260</span> │\n",
       "└─────────────────────────────────┴────────────────────────┴───────────────┘\n",
       "</pre>\n"
      ],
      "text/plain": [
       "┏━━━━━━━━━━━━━━━━━━━━━━━━━━━━━━━━━┳━━━━━━━━━━━━━━━━━━━━━━━━┳━━━━━━━━━━━━━━━┓\n",
       "┃\u001b[1m \u001b[0m\u001b[1mLayer (type)                   \u001b[0m\u001b[1m \u001b[0m┃\u001b[1m \u001b[0m\u001b[1mOutput Shape          \u001b[0m\u001b[1m \u001b[0m┃\u001b[1m \u001b[0m\u001b[1m      Param #\u001b[0m\u001b[1m \u001b[0m┃\n",
       "┡━━━━━━━━━━━━━━━━━━━━━━━━━━━━━━━━━╇━━━━━━━━━━━━━━━━━━━━━━━━╇━━━━━━━━━━━━━━━┩\n",
       "│ conv2d (\u001b[38;5;33mConv2D\u001b[0m)                 │ (\u001b[38;5;45mNone\u001b[0m, \u001b[38;5;34m143\u001b[0m, \u001b[38;5;34m143\u001b[0m, \u001b[38;5;34m512\u001b[0m)  │        \u001b[38;5;34m14,336\u001b[0m │\n",
       "├─────────────────────────────────┼────────────────────────┼───────────────┤\n",
       "│ max_pooling2d (\u001b[38;5;33mMaxPooling2D\u001b[0m)    │ (\u001b[38;5;45mNone\u001b[0m, \u001b[38;5;34m71\u001b[0m, \u001b[38;5;34m71\u001b[0m, \u001b[38;5;34m512\u001b[0m)    │             \u001b[38;5;34m0\u001b[0m │\n",
       "├─────────────────────────────────┼────────────────────────┼───────────────┤\n",
       "│ conv2d_1 (\u001b[38;5;33mConv2D\u001b[0m)               │ (\u001b[38;5;45mNone\u001b[0m, \u001b[38;5;34m69\u001b[0m, \u001b[38;5;34m69\u001b[0m, \u001b[38;5;34m512\u001b[0m)    │     \u001b[38;5;34m2,359,808\u001b[0m │\n",
       "├─────────────────────────────────┼────────────────────────┼───────────────┤\n",
       "│ max_pooling2d_1 (\u001b[38;5;33mMaxPooling2D\u001b[0m)  │ (\u001b[38;5;45mNone\u001b[0m, \u001b[38;5;34m34\u001b[0m, \u001b[38;5;34m34\u001b[0m, \u001b[38;5;34m512\u001b[0m)    │             \u001b[38;5;34m0\u001b[0m │\n",
       "├─────────────────────────────────┼────────────────────────┼───────────────┤\n",
       "│ conv2d_2 (\u001b[38;5;33mConv2D\u001b[0m)               │ (\u001b[38;5;45mNone\u001b[0m, \u001b[38;5;34m32\u001b[0m, \u001b[38;5;34m32\u001b[0m, \u001b[38;5;34m256\u001b[0m)    │     \u001b[38;5;34m1,179,904\u001b[0m │\n",
       "├─────────────────────────────────┼────────────────────────┼───────────────┤\n",
       "│ max_pooling2d_2 (\u001b[38;5;33mMaxPooling2D\u001b[0m)  │ (\u001b[38;5;45mNone\u001b[0m, \u001b[38;5;34m16\u001b[0m, \u001b[38;5;34m16\u001b[0m, \u001b[38;5;34m256\u001b[0m)    │             \u001b[38;5;34m0\u001b[0m │\n",
       "├─────────────────────────────────┼────────────────────────┼───────────────┤\n",
       "│ conv2d_3 (\u001b[38;5;33mConv2D\u001b[0m)               │ (\u001b[38;5;45mNone\u001b[0m, \u001b[38;5;34m14\u001b[0m, \u001b[38;5;34m14\u001b[0m, \u001b[38;5;34m256\u001b[0m)    │       \u001b[38;5;34m590,080\u001b[0m │\n",
       "├─────────────────────────────────┼────────────────────────┼───────────────┤\n",
       "│ max_pooling2d_3 (\u001b[38;5;33mMaxPooling2D\u001b[0m)  │ (\u001b[38;5;45mNone\u001b[0m, \u001b[38;5;34m7\u001b[0m, \u001b[38;5;34m7\u001b[0m, \u001b[38;5;34m256\u001b[0m)      │             \u001b[38;5;34m0\u001b[0m │\n",
       "├─────────────────────────────────┼────────────────────────┼───────────────┤\n",
       "│ conv2d_4 (\u001b[38;5;33mConv2D\u001b[0m)               │ (\u001b[38;5;45mNone\u001b[0m, \u001b[38;5;34m5\u001b[0m, \u001b[38;5;34m5\u001b[0m, \u001b[38;5;34m256\u001b[0m)      │       \u001b[38;5;34m590,080\u001b[0m │\n",
       "├─────────────────────────────────┼────────────────────────┼───────────────┤\n",
       "│ max_pooling2d_4 (\u001b[38;5;33mMaxPooling2D\u001b[0m)  │ (\u001b[38;5;45mNone\u001b[0m, \u001b[38;5;34m2\u001b[0m, \u001b[38;5;34m2\u001b[0m, \u001b[38;5;34m256\u001b[0m)      │             \u001b[38;5;34m0\u001b[0m │\n",
       "├─────────────────────────────────┼────────────────────────┼───────────────┤\n",
       "│ flatten (\u001b[38;5;33mFlatten\u001b[0m)               │ (\u001b[38;5;45mNone\u001b[0m, \u001b[38;5;34m1024\u001b[0m)           │             \u001b[38;5;34m0\u001b[0m │\n",
       "├─────────────────────────────────┼────────────────────────┼───────────────┤\n",
       "│ dropout (\u001b[38;5;33mDropout\u001b[0m)               │ (\u001b[38;5;45mNone\u001b[0m, \u001b[38;5;34m1024\u001b[0m)           │             \u001b[38;5;34m0\u001b[0m │\n",
       "├─────────────────────────────────┼────────────────────────┼───────────────┤\n",
       "│ dense (\u001b[38;5;33mDense\u001b[0m)                   │ (\u001b[38;5;45mNone\u001b[0m, \u001b[38;5;34m128\u001b[0m)            │       \u001b[38;5;34m131,200\u001b[0m │\n",
       "├─────────────────────────────────┼────────────────────────┼───────────────┤\n",
       "│ dense_1 (\u001b[38;5;33mDense\u001b[0m)                 │ (\u001b[38;5;45mNone\u001b[0m, \u001b[38;5;34m64\u001b[0m)             │         \u001b[38;5;34m8,256\u001b[0m │\n",
       "├─────────────────────────────────┼────────────────────────┼───────────────┤\n",
       "│ dense_2 (\u001b[38;5;33mDense\u001b[0m)                 │ (\u001b[38;5;45mNone\u001b[0m, \u001b[38;5;34m4\u001b[0m)              │           \u001b[38;5;34m260\u001b[0m │\n",
       "└─────────────────────────────────┴────────────────────────┴───────────────┘\n"
      ]
     },
     "metadata": {},
     "output_type": "display_data"
    },
    {
     "data": {
      "text/html": [
       "<pre style=\"white-space:pre;overflow-x:auto;line-height:normal;font-family:Menlo,'DejaVu Sans Mono',consolas,'Courier New',monospace\"><span style=\"font-weight: bold\"> Total params: </span><span style=\"color: #00af00; text-decoration-color: #00af00\">4,873,924</span> (18.59 MB)\n",
       "</pre>\n"
      ],
      "text/plain": [
       "\u001b[1m Total params: \u001b[0m\u001b[38;5;34m4,873,924\u001b[0m (18.59 MB)\n"
      ]
     },
     "metadata": {},
     "output_type": "display_data"
    },
    {
     "data": {
      "text/html": [
       "<pre style=\"white-space:pre;overflow-x:auto;line-height:normal;font-family:Menlo,'DejaVu Sans Mono',consolas,'Courier New',monospace\"><span style=\"font-weight: bold\"> Trainable params: </span><span style=\"color: #00af00; text-decoration-color: #00af00\">4,873,924</span> (18.59 MB)\n",
       "</pre>\n"
      ],
      "text/plain": [
       "\u001b[1m Trainable params: \u001b[0m\u001b[38;5;34m4,873,924\u001b[0m (18.59 MB)\n"
      ]
     },
     "metadata": {},
     "output_type": "display_data"
    },
    {
     "data": {
      "text/html": [
       "<pre style=\"white-space:pre;overflow-x:auto;line-height:normal;font-family:Menlo,'DejaVu Sans Mono',consolas,'Courier New',monospace\"><span style=\"font-weight: bold\"> Non-trainable params: </span><span style=\"color: #00af00; text-decoration-color: #00af00\">0</span> (0.00 B)\n",
       "</pre>\n"
      ],
      "text/plain": [
       "\u001b[1m Non-trainable params: \u001b[0m\u001b[38;5;34m0\u001b[0m (0.00 B)\n"
      ]
     },
     "metadata": {},
     "output_type": "display_data"
    }
   ],
   "source": [
    "\n",
    "from tensorflow.keras.models import Sequential\n",
    "from tensorflow.keras.layers import Conv2D, MaxPooling2D, Flatten, Dense, Dropout\n",
    "model = Sequential()\n",
    "model.add(Conv2D(512, (3, 3), activation=\"relu\", input_shape=X_train.shape[1:]))\n",
    "model.add(MaxPooling2D(2, 2))\n",
    "model.add(Conv2D(512, (3, 3), activation=\"relu\"))\n",
    "model.add(MaxPooling2D(2, 2))\n",
    "model.add(Conv2D(256, (3, 3), activation=\"relu\"))\n",
    "model.add(MaxPooling2D(2, 2))\n",
    "model.add(Conv2D(256, (3, 3), activation=\"relu\"))\n",
    "model.add(MaxPooling2D(2, 2))\n",
    "model.add(Conv2D(256, (3, 3), activation=\"relu\"))\n",
    "model.add(MaxPooling2D(2, 2))\n",
    "model.add(Flatten())\n",
    "model.add(Dropout(0.5))\n",
    "model.add(Dense(128, activation=\"relu\"))\n",
    "model.add(Dense(64, activation=\"relu\"))\n",
    "model.add(Dense(4, activation=\"softmax\"))\n",
    "model.compile(loss=\"categorical_crossentropy\", metrics=[\"accuracy\"], optimizer=\"adam\")\n",
    "model.summary()"
   ]
  },
  {
   "cell_type": "code",
   "execution_count": 15,
   "metadata": {
    "execution": {
     "iopub.execute_input": "2024-11-16T08:19:48.833042Z",
     "iopub.status.busy": "2024-11-16T08:19:48.832625Z",
     "iopub.status.idle": "2024-11-16T08:27:40.577925Z",
     "shell.execute_reply": "2024-11-16T08:27:40.576978Z",
     "shell.execute_reply.started": "2024-11-16T08:19:48.833002Z"
    },
    "trusted": true
   },
   "outputs": [
    {
     "name": "stdout",
     "output_type": "stream",
     "text": [
      "Epoch 1/30\n"
     ]
    },
    {
     "name": "stderr",
     "output_type": "stream",
     "text": [
      "/opt/conda/lib/python3.10/site-packages/keras/src/trainers/data_adapters/py_dataset_adapter.py:121: UserWarning: Your `PyDataset` class should call `super().__init__(**kwargs)` in its constructor. `**kwargs` can include `workers`, `use_multiprocessing`, `max_queue_size`. Do not pass these arguments to `fit()`, as they will be ignored.\n",
      "  self._warn_if_super_not_called()\n",
      "WARNING: All log messages before absl::InitializeLog() is called are written to STDERR\n",
      "I0000 00:00:1731745192.834705     121 service.cc:145] XLA service 0x7cbafc01abe0 initialized for platform CUDA (this does not guarantee that XLA will be used). Devices:\n",
      "I0000 00:00:1731745192.834775     121 service.cc:153]   StreamExecutor device (0): Tesla T4, Compute Capability 7.5\n",
      "I0000 00:00:1731745192.834780     121 service.cc:153]   StreamExecutor device (1): Tesla T4, Compute Capability 7.5\n",
      "2024-11-16 08:20:11.506546: E external/local_xla/xla/service/slow_operation_alarm.cc:65] Trying algorithm eng25{k2=2,k3=0} for conv (f32[32,512,71,71]{3,2,1,0}, u8[0]{0}) custom-call(f32[32,512,69,69]{3,2,1,0}, f32[512,512,3,3]{3,2,1,0}), window={size=3x3}, dim_labels=bf01_oi01->bf01, custom_call_target=\"__cudnn$convBackwardInput\", backend_config={\"operation_queue_id\":\"0\",\"wait_on_operation_queues\":[],\"cudnn_conv_backend_config\":{\"conv_result_scale\":1,\"activation_mode\":\"kNone\",\"side_input_scale\":0,\"leakyrelu_alpha\":0}} is taking a while...\n",
      "2024-11-16 08:20:11.526361: E external/local_xla/xla/service/slow_operation_alarm.cc:133] The operation took 1.020025402s\n",
      "Trying algorithm eng25{k2=2,k3=0} for conv (f32[32,512,71,71]{3,2,1,0}, u8[0]{0}) custom-call(f32[32,512,69,69]{3,2,1,0}, f32[512,512,3,3]{3,2,1,0}), window={size=3x3}, dim_labels=bf01_oi01->bf01, custom_call_target=\"__cudnn$convBackwardInput\", backend_config={\"operation_queue_id\":\"0\",\"wait_on_operation_queues\":[],\"cudnn_conv_backend_config\":{\"conv_result_scale\":1,\"activation_mode\":\"kNone\",\"side_input_scale\":0,\"leakyrelu_alpha\":0}} is taking a while...\n",
      "2024-11-16 08:20:12.526557: E external/local_xla/xla/service/slow_operation_alarm.cc:65] Trying algorithm eng2{k2=1,k3=0} for conv (f32[32,512,71,71]{3,2,1,0}, u8[0]{0}) custom-call(f32[32,512,69,69]{3,2,1,0}, f32[512,512,3,3]{3,2,1,0}), window={size=3x3}, dim_labels=bf01_oi01->bf01, custom_call_target=\"__cudnn$convBackwardInput\", backend_config={\"operation_queue_id\":\"0\",\"wait_on_operation_queues\":[],\"cudnn_conv_backend_config\":{\"conv_result_scale\":1,\"activation_mode\":\"kNone\",\"side_input_scale\":0,\"leakyrelu_alpha\":0}} is taking a while...\n",
      "2024-11-16 08:20:12.593994: E external/local_xla/xla/service/slow_operation_alarm.cc:133] The operation took 1.067529904s\n",
      "Trying algorithm eng2{k2=1,k3=0} for conv (f32[32,512,71,71]{3,2,1,0}, u8[0]{0}) custom-call(f32[32,512,69,69]{3,2,1,0}, f32[512,512,3,3]{3,2,1,0}), window={size=3x3}, dim_labels=bf01_oi01->bf01, custom_call_target=\"__cudnn$convBackwardInput\", backend_config={\"operation_queue_id\":\"0\",\"wait_on_operation_queues\":[],\"cudnn_conv_backend_config\":{\"conv_result_scale\":1,\"activation_mode\":\"kNone\",\"side_input_scale\":0,\"leakyrelu_alpha\":0}} is taking a while...\n",
      "2024-11-16 08:20:20.373978: E external/local_xla/xla/service/slow_operation_alarm.cc:65] Trying algorithm eng1{k2=8,k3=0} for conv (f32[512,512,3,3]{3,2,1,0}, u8[0]{0}) custom-call(f32[32,512,71,71]{3,2,1,0}, f32[32,512,69,69]{3,2,1,0}), window={size=3x3}, dim_labels=bf01_oi01->bf01, custom_call_target=\"__cudnn$convBackwardFilter\", backend_config={\"operation_queue_id\":\"0\",\"wait_on_operation_queues\":[],\"cudnn_conv_backend_config\":{\"conv_result_scale\":1,\"activation_mode\":\"kNone\",\"side_input_scale\":0,\"leakyrelu_alpha\":0}} is taking a while...\n",
      "2024-11-16 08:20:20.508600: E external/local_xla/xla/service/slow_operation_alarm.cc:133] The operation took 1.134725741s\n",
      "Trying algorithm eng1{k2=8,k3=0} for conv (f32[512,512,3,3]{3,2,1,0}, u8[0]{0}) custom-call(f32[32,512,71,71]{3,2,1,0}, f32[32,512,69,69]{3,2,1,0}), window={size=3x3}, dim_labels=bf01_oi01->bf01, custom_call_target=\"__cudnn$convBackwardFilter\", backend_config={\"operation_queue_id\":\"0\",\"wait_on_operation_queues\":[],\"cudnn_conv_backend_config\":{\"conv_result_scale\":1,\"activation_mode\":\"kNone\",\"side_input_scale\":0,\"leakyrelu_alpha\":0}} is taking a while...\n",
      "2024-11-16 08:20:21.508822: E external/local_xla/xla/service/slow_operation_alarm.cc:65] Trying algorithm eng20{k2=8,k3=0} for conv (f32[512,512,3,3]{3,2,1,0}, u8[0]{0}) custom-call(f32[32,512,71,71]{3,2,1,0}, f32[32,512,69,69]{3,2,1,0}), window={size=3x3}, dim_labels=bf01_oi01->bf01, custom_call_target=\"__cudnn$convBackwardFilter\", backend_config={\"operation_queue_id\":\"0\",\"wait_on_operation_queues\":[],\"cudnn_conv_backend_config\":{\"conv_result_scale\":1,\"activation_mode\":\"kNone\",\"side_input_scale\":0,\"leakyrelu_alpha\":0}} is taking a while...\n",
      "2024-11-16 08:20:21.569966: E external/local_xla/xla/service/slow_operation_alarm.cc:133] The operation took 1.061259936s\n",
      "Trying algorithm eng20{k2=8,k3=0} for conv (f32[512,512,3,3]{3,2,1,0}, u8[0]{0}) custom-call(f32[32,512,71,71]{3,2,1,0}, f32[32,512,69,69]{3,2,1,0}), window={size=3x3}, dim_labels=bf01_oi01->bf01, custom_call_target=\"__cudnn$convBackwardFilter\", backend_config={\"operation_queue_id\":\"0\",\"wait_on_operation_queues\":[],\"cudnn_conv_backend_config\":{\"conv_result_scale\":1,\"activation_mode\":\"kNone\",\"side_input_scale\":0,\"leakyrelu_alpha\":0}} is taking a while...\n",
      "2024-11-16 08:20:22.570172: E external/local_xla/xla/service/slow_operation_alarm.cc:65] Trying algorithm eng1{k2=6,k3=0} for conv (f32[512,512,3,3]{3,2,1,0}, u8[0]{0}) custom-call(f32[32,512,71,71]{3,2,1,0}, f32[32,512,69,69]{3,2,1,0}), window={size=3x3}, dim_labels=bf01_oi01->bf01, custom_call_target=\"__cudnn$convBackwardFilter\", backend_config={\"operation_queue_id\":\"0\",\"wait_on_operation_queues\":[],\"cudnn_conv_backend_config\":{\"conv_result_scale\":1,\"activation_mode\":\"kNone\",\"side_input_scale\":0,\"leakyrelu_alpha\":0}} is taking a while...\n",
      "2024-11-16 08:20:22.868910: E external/local_xla/xla/service/slow_operation_alarm.cc:133] The operation took 1.298835168s\n",
      "Trying algorithm eng1{k2=6,k3=0} for conv (f32[512,512,3,3]{3,2,1,0}, u8[0]{0}) custom-call(f32[32,512,71,71]{3,2,1,0}, f32[32,512,69,69]{3,2,1,0}), window={size=3x3}, dim_labels=bf01_oi01->bf01, custom_call_target=\"__cudnn$convBackwardFilter\", backend_config={\"operation_queue_id\":\"0\",\"wait_on_operation_queues\":[],\"cudnn_conv_backend_config\":{\"conv_result_scale\":1,\"activation_mode\":\"kNone\",\"side_input_scale\":0,\"leakyrelu_alpha\":0}} is taking a while...\n",
      "2024-11-16 08:20:23.869127: E external/local_xla/xla/service/slow_operation_alarm.cc:65] Trying algorithm eng20{k2=6,k3=0} for conv (f32[512,512,3,3]{3,2,1,0}, u8[0]{0}) custom-call(f32[32,512,71,71]{3,2,1,0}, f32[32,512,69,69]{3,2,1,0}), window={size=3x3}, dim_labels=bf01_oi01->bf01, custom_call_target=\"__cudnn$convBackwardFilter\", backend_config={\"operation_queue_id\":\"0\",\"wait_on_operation_queues\":[],\"cudnn_conv_backend_config\":{\"conv_result_scale\":1,\"activation_mode\":\"kNone\",\"side_input_scale\":0,\"leakyrelu_alpha\":0}} is taking a while...\n",
      "2024-11-16 08:20:24.092279: E external/local_xla/xla/service/slow_operation_alarm.cc:133] The operation took 1.223257997s\n",
      "Trying algorithm eng20{k2=6,k3=0} for conv (f32[512,512,3,3]{3,2,1,0}, u8[0]{0}) custom-call(f32[32,512,71,71]{3,2,1,0}, f32[32,512,69,69]{3,2,1,0}), window={size=3x3}, dim_labels=bf01_oi01->bf01, custom_call_target=\"__cudnn$convBackwardFilter\", backend_config={\"operation_queue_id\":\"0\",\"wait_on_operation_queues\":[],\"cudnn_conv_backend_config\":{\"conv_result_scale\":1,\"activation_mode\":\"kNone\",\"side_input_scale\":0,\"leakyrelu_alpha\":0}} is taking a while...\n",
      "I0000 00:00:1731745227.852509     121 device_compiler.h:188] Compiled cluster using XLA!  This line is logged at most once for the lifetime of the process.\n"
     ]
    },
    {
     "name": "stdout",
     "output_type": "stream",
     "text": [
      "\u001b[1m27/43\u001b[0m \u001b[32m━━━━━━━━━━━━\u001b[0m\u001b[37m━━━━━━━━\u001b[0m \u001b[1m9s\u001b[0m 605ms/step - accuracy: 0.3536 - loss: 1.3539"
     ]
    },
    {
     "name": "stderr",
     "output_type": "stream",
     "text": [
      "WARNING: All log messages before absl::InitializeLog() is called are written to STDERR\n",
      "I0000 00:00:1731745243.824980     124 asm_compiler.cc:369] ptxas warning : Registers are spilled to local memory in function 'input_reduce_select_fusion_2', 24 bytes spill stores, 24 bytes spill loads\n",
      "\n"
     ]
    },
    {
     "name": "stdout",
     "output_type": "stream",
     "text": [
      "\u001b[1m43/43\u001b[0m \u001b[32m━━━━━━━━━━━━━━━━━━━━\u001b[0m\u001b[37m\u001b[0m \u001b[1m63s\u001b[0m 584ms/step - accuracy: 0.3629 - loss: 1.3414 - val_accuracy: 0.3720 - val_loss: 1.2679\n",
      "Epoch 2/30\n"
     ]
    },
    {
     "name": "stderr",
     "output_type": "stream",
     "text": [
      "/opt/conda/lib/python3.10/contextlib.py:153: UserWarning: Your input ran out of data; interrupting training. Make sure that your dataset or generator can generate at least `steps_per_epoch * epochs` batches. You may need to use the `.repeat()` function when building your dataset.\n",
      "  self.gen.throw(typ, value, traceback)\n"
     ]
    },
    {
     "name": "stdout",
     "output_type": "stream",
     "text": [
      "\u001b[1m43/43\u001b[0m \u001b[32m━━━━━━━━━━━━━━━━━━━━\u001b[0m\u001b[37m\u001b[0m \u001b[1m14s\u001b[0m 298ms/step - accuracy: 0.4732 - loss: 1.1188 - val_accuracy: 0.6125 - val_loss: 1.0217\n",
      "Epoch 3/30\n",
      "\u001b[1m43/43\u001b[0m \u001b[32m━━━━━━━━━━━━━━━━━━━━\u001b[0m\u001b[37m\u001b[0m \u001b[1m14s\u001b[0m 298ms/step - accuracy: 0.7358 - loss: 0.6158 - val_accuracy: 0.8270 - val_loss: 0.3335\n",
      "Epoch 4/30\n",
      "\u001b[1m43/43\u001b[0m \u001b[32m━━━━━━━━━━━━━━━━━━━━\u001b[0m\u001b[37m\u001b[0m \u001b[1m14s\u001b[0m 300ms/step - accuracy: 0.8382 - loss: 0.3706 - val_accuracy: 0.8131 - val_loss: 0.3103\n",
      "Epoch 5/30\n",
      "\u001b[1m43/43\u001b[0m \u001b[32m━━━━━━━━━━━━━━━━━━━━\u001b[0m\u001b[37m\u001b[0m \u001b[1m14s\u001b[0m 299ms/step - accuracy: 0.8579 - loss: 0.3227 - val_accuracy: 0.8443 - val_loss: 0.3993\n",
      "Epoch 6/30\n",
      "\u001b[1m43/43\u001b[0m \u001b[32m━━━━━━━━━━━━━━━━━━━━\u001b[0m\u001b[37m\u001b[0m \u001b[1m14s\u001b[0m 302ms/step - accuracy: 0.8527 - loss: 0.3434 - val_accuracy: 0.9204 - val_loss: 0.1798\n",
      "Epoch 7/30\n",
      "\u001b[1m43/43\u001b[0m \u001b[32m━━━━━━━━━━━━━━━━━━━━\u001b[0m\u001b[37m\u001b[0m \u001b[1m14s\u001b[0m 304ms/step - accuracy: 0.8773 - loss: 0.2833 - val_accuracy: 0.9152 - val_loss: 0.2147\n",
      "Epoch 8/30\n",
      "\u001b[1m43/43\u001b[0m \u001b[32m━━━━━━━━━━━━━━━━━━━━\u001b[0m\u001b[37m\u001b[0m \u001b[1m14s\u001b[0m 306ms/step - accuracy: 0.9036 - loss: 0.2414 - val_accuracy: 0.9343 - val_loss: 0.1654\n",
      "Epoch 9/30\n",
      "\u001b[1m43/43\u001b[0m \u001b[32m━━━━━━━━━━━━━━━━━━━━\u001b[0m\u001b[37m\u001b[0m \u001b[1m14s\u001b[0m 299ms/step - accuracy: 0.9076 - loss: 0.2230 - val_accuracy: 0.9429 - val_loss: 0.1664\n",
      "Epoch 10/30\n",
      "\u001b[1m43/43\u001b[0m \u001b[32m━━━━━━━━━━━━━━━━━━━━\u001b[0m\u001b[37m\u001b[0m \u001b[1m14s\u001b[0m 300ms/step - accuracy: 0.9132 - loss: 0.1886 - val_accuracy: 0.9170 - val_loss: 0.2002\n",
      "Epoch 11/30\n",
      "\u001b[1m43/43\u001b[0m \u001b[32m━━━━━━━━━━━━━━━━━━━━\u001b[0m\u001b[37m\u001b[0m \u001b[1m14s\u001b[0m 302ms/step - accuracy: 0.9253 - loss: 0.2471 - val_accuracy: 0.9412 - val_loss: 0.1480\n",
      "Epoch 12/30\n",
      "\u001b[1m43/43\u001b[0m \u001b[32m━━━━━━━━━━━━━━━━━━━━\u001b[0m\u001b[37m\u001b[0m \u001b[1m14s\u001b[0m 300ms/step - accuracy: 0.9138 - loss: 0.1947 - val_accuracy: 0.9567 - val_loss: 0.1227\n",
      "Epoch 13/30\n",
      "\u001b[1m43/43\u001b[0m \u001b[32m━━━━━━━━━━━━━━━━━━━━\u001b[0m\u001b[37m\u001b[0m \u001b[1m14s\u001b[0m 300ms/step - accuracy: 0.9368 - loss: 0.1421 - val_accuracy: 0.9412 - val_loss: 0.1399\n",
      "Epoch 14/30\n",
      "\u001b[1m43/43\u001b[0m \u001b[32m━━━━━━━━━━━━━━━━━━━━\u001b[0m\u001b[37m\u001b[0m \u001b[1m14s\u001b[0m 301ms/step - accuracy: 0.9371 - loss: 0.1597 - val_accuracy: 0.9377 - val_loss: 0.1837\n",
      "Epoch 15/30\n",
      "\u001b[1m43/43\u001b[0m \u001b[32m━━━━━━━━━━━━━━━━━━━━\u001b[0m\u001b[37m\u001b[0m \u001b[1m14s\u001b[0m 298ms/step - accuracy: 0.9150 - loss: 0.2039 - val_accuracy: 0.9446 - val_loss: 0.1450\n",
      "Epoch 16/30\n",
      "\u001b[1m43/43\u001b[0m \u001b[32m━━━━━━━━━━━━━━━━━━━━\u001b[0m\u001b[37m\u001b[0m \u001b[1m14s\u001b[0m 301ms/step - accuracy: 0.9274 - loss: 0.1557 - val_accuracy: 0.9498 - val_loss: 0.1359\n",
      "Epoch 17/30\n",
      "\u001b[1m43/43\u001b[0m \u001b[32m━━━━━━━━━━━━━━━━━━━━\u001b[0m\u001b[37m\u001b[0m \u001b[1m14s\u001b[0m 302ms/step - accuracy: 0.9279 - loss: 0.1962 - val_accuracy: 0.9602 - val_loss: 0.1245\n",
      "Epoch 18/30\n",
      "\u001b[1m43/43\u001b[0m \u001b[32m━━━━━━━━━━━━━━━━━━━━\u001b[0m\u001b[37m\u001b[0m \u001b[1m14s\u001b[0m 300ms/step - accuracy: 0.9467 - loss: 0.1285 - val_accuracy: 0.9550 - val_loss: 0.1149\n",
      "Epoch 19/30\n",
      "\u001b[1m43/43\u001b[0m \u001b[32m━━━━━━━━━━━━━━━━━━━━\u001b[0m\u001b[37m\u001b[0m \u001b[1m14s\u001b[0m 300ms/step - accuracy: 0.9243 - loss: 0.1553 - val_accuracy: 0.9412 - val_loss: 0.1339\n",
      "Epoch 20/30\n",
      "\u001b[1m43/43\u001b[0m \u001b[32m━━━━━━━━━━━━━━━━━━━━\u001b[0m\u001b[37m\u001b[0m \u001b[1m14s\u001b[0m 299ms/step - accuracy: 0.9419 - loss: 0.1445 - val_accuracy: 0.9567 - val_loss: 0.1184\n",
      "Epoch 21/30\n",
      "\u001b[1m43/43\u001b[0m \u001b[32m━━━━━━━━━━━━━━━━━━━━\u001b[0m\u001b[37m\u001b[0m \u001b[1m14s\u001b[0m 299ms/step - accuracy: 0.9474 - loss: 0.1438 - val_accuracy: 0.9481 - val_loss: 0.1411\n",
      "Epoch 22/30\n",
      "\u001b[1m43/43\u001b[0m \u001b[32m━━━━━━━━━━━━━━━━━━━━\u001b[0m\u001b[37m\u001b[0m \u001b[1m14s\u001b[0m 299ms/step - accuracy: 0.9578 - loss: 0.1143 - val_accuracy: 0.9533 - val_loss: 0.1256\n",
      "Epoch 23/30\n",
      "\u001b[1m43/43\u001b[0m \u001b[32m━━━━━━━━━━━━━━━━━━━━\u001b[0m\u001b[37m\u001b[0m \u001b[1m14s\u001b[0m 300ms/step - accuracy: 0.9316 - loss: 0.1585 - val_accuracy: 0.9446 - val_loss: 0.1431\n",
      "Epoch 24/30\n",
      "\u001b[1m43/43\u001b[0m \u001b[32m━━━━━━━━━━━━━━━━━━━━\u001b[0m\u001b[37m\u001b[0m \u001b[1m14s\u001b[0m 300ms/step - accuracy: 0.9421 - loss: 0.1461 - val_accuracy: 0.9394 - val_loss: 0.1536\n",
      "Epoch 25/30\n",
      "\u001b[1m43/43\u001b[0m \u001b[32m━━━━━━━━━━━━━━━━━━━━\u001b[0m\u001b[37m\u001b[0m \u001b[1m14s\u001b[0m 300ms/step - accuracy: 0.9336 - loss: 0.1502 - val_accuracy: 0.9619 - val_loss: 0.1050\n",
      "Epoch 26/30\n",
      "\u001b[1m43/43\u001b[0m \u001b[32m━━━━━━━━━━━━━━━━━━━━\u001b[0m\u001b[37m\u001b[0m \u001b[1m14s\u001b[0m 301ms/step - accuracy: 0.9309 - loss: 0.1628 - val_accuracy: 0.9602 - val_loss: 0.1073\n",
      "Epoch 27/30\n",
      "\u001b[1m43/43\u001b[0m \u001b[32m━━━━━━━━━━━━━━━━━━━━\u001b[0m\u001b[37m\u001b[0m \u001b[1m14s\u001b[0m 299ms/step - accuracy: 0.9537 - loss: 0.1179 - val_accuracy: 0.9602 - val_loss: 0.0961\n",
      "Epoch 28/30\n",
      "\u001b[1m43/43\u001b[0m \u001b[32m━━━━━━━━━━━━━━━━━━━━\u001b[0m\u001b[37m\u001b[0m \u001b[1m14s\u001b[0m 299ms/step - accuracy: 0.9480 - loss: 0.1233 - val_accuracy: 0.9567 - val_loss: 0.1095\n",
      "Epoch 29/30\n",
      "\u001b[1m43/43\u001b[0m \u001b[32m━━━━━━━━━━━━━━━━━━━━\u001b[0m\u001b[37m\u001b[0m \u001b[1m14s\u001b[0m 299ms/step - accuracy: 0.9469 - loss: 0.1251 - val_accuracy: 0.9550 - val_loss: 0.1184\n",
      "Epoch 30/30\n",
      "\u001b[1m43/43\u001b[0m \u001b[32m━━━━━━━━━━━━━━━━━━━━\u001b[0m\u001b[37m\u001b[0m \u001b[1m14s\u001b[0m 300ms/step - accuracy: 0.9533 - loss: 0.1373 - val_accuracy: 0.9637 - val_loss: 0.0994\n"
     ]
    }
   ],
   "source": [
    "history = model.fit(train_generator, epochs=30, validation_data=test_generator, shuffle=True, validation_steps=30)"
   ]
  },
  {
   "cell_type": "code",
   "execution_count": null,
   "metadata": {
    "execution": {
     "iopub.execute_input": "2024-11-16T08:27:57.501501Z",
     "iopub.status.busy": "2024-11-16T08:27:57.501088Z",
     "iopub.status.idle": "2024-11-16T08:27:58.134507Z",
     "shell.execute_reply": "2024-11-16T08:27:58.133572Z",
     "shell.execute_reply.started": "2024-11-16T08:27:57.501457Z"
    },
    "trusted": true
   },
   "outputs": [
    {
     "data": {
      "image/png": "[encoded data removed]",
      "text/plain": [
       "<Figure size 640x480 with 1 Axes>"
      ]
     },
     "metadata": {},
     "output_type": "display_data"
    },
    {
     "data": {
      "image/png": "[encoded data removed]",
      "text/plain": [
       "<Figure size 640x480 with 1 Axes>"
      ]
     },
     "metadata": {},
     "output_type": "display_data"
    }
   ],
   "source": [
    "\n",
    "accuracy = history.history['accuracy']\n",
    "val_accuracy = history.history['val_accuracy']\n",
    "loss = history.history['loss']\n",
    "val_loss = history.history['val_loss']\n",
    "epochs = range(len(accuracy))\n",
    "\n",
    "max_val_acc = max(val_accuracy)\n",
    "max_val_acc_index = val_accuracy.index(max_val_acc)\n",
    "\n",
    "min_val_acc = min(val_accuracy)\n",
    "max_accuracy = max(accuracy)\n",
    "min_loss =  min(loss)\n",
    "min_val_loss = min(val_loss)\n",
    "\n",
    "plt.plot(max_val_acc_index, max_val_acc, marker='o', color='blue')\n",
    "\n",
    "plt.plot(epochs, accuracy, \"g\", label=\"Training Accuracy\")\n",
    "plt.plot(epochs, val_accuracy, \"r\", label=\"Testing Accuracy\")\n",
    "plt.legend()\n",
    "plt.title(\"Training and Testing Accuracy\\nHighest Testing Accuracy: {:.2f}%\".format(max_val_acc*100))\n",
    "plt.xlabel(\"Epochs\")\n",
    "plt.ylabel(\"Accuracy\")\n",
    "plt.show()\n",
    "\n",
    "plt.plot(epochs, loss, \"g\", label=\"Training loss\")\n",
    "plt.plot(epochs, val_loss, \"r\", label=\"Testing loss\")\n",
    "plt.legend()\n",
    "plt.title(\"Training and Testing Loss\")\n",
    "plt.xlabel(\"Epochs\")\n",
    "plt.ylabel(\"Loss\")\n",
    "plt.show()"
   ]
  },
  {
   "cell_type": "code",
   "execution_count": null,
   "metadata": {
    "execution": {
     "iopub.execute_input": "2024-11-16T08:28:07.295803Z",
     "iopub.status.busy": "2024-11-16T08:28:07.295366Z",
     "iopub.status.idle": "2024-11-16T08:28:07.326199Z",
     "shell.execute_reply": "2024-11-16T08:28:07.324946Z",
     "shell.execute_reply.started": "2024-11-16T08:28:07.295761Z"
    },
    "trusted": true
   },
   "outputs": [
    {
     "name": "stdout",
     "output_type": "stream",
     "text": [
      "╒════════════════════════════╤═════════╕\n",
      "│ Metric                     │   Value │\n",
      "╞════════════════════════════╪═════════╡\n",
      "│ Maximum Testing accuracy:  │  \u001b[1;32m0.9637\u001b[0m │\n",
      "├────────────────────────────┼─────────┤\n",
      "│ Maximum Training accuracy: │  \u001b[1;32m0.9525\u001b[0m │\n",
      "├────────────────────────────┼─────────┤\n",
      "│ Minimum Training Loss:     │  \u001b[1;31m0.1162\u001b[0m │\n",
      "├────────────────────────────┼─────────┤\n",
      "│ Minimum Testing Loss:      │  \u001b[1;31m0.0961\u001b[0m │\n",
      "╘════════════════════════════╧═════════╛\n"
     ]
    }
   ],
   "source": [
    "from tabulate import tabulate\n",
    "table = [[\"Maximum Testing accuracy:\", f\"\\033[1;32m{max_val_acc:.4f}\\033[0m\"],\n",
    "         [\"Maximum Training accuracy:\", f\"\\033[1;32m{max_accuracy:.4f}\\033[0m\"],\n",
    "         [\"Minimum Training Loss:\", f\"\\033[1;31m{min_loss:.4f}\\033[0m\"],\n",
    "         [\"Minimum Testing Loss:\", f\"\\033[1;31m{min_val_loss:.4f}\\033[0m\"]]\n",
    "print(tabulate(table, headers=[\"Metric\", \"Value\"], tablefmt=\"fancy_grid\"))"
   ]
  },
  {
   "cell_type": "code",
   "execution_count": null,
   "metadata": {
    "execution": {
     "iopub.execute_input": "2024-11-16T08:28:20.518595Z",
     "iopub.status.busy": "2024-11-16T08:28:20.517641Z",
     "iopub.status.idle": "2024-11-16T08:28:22.770502Z",
     "shell.execute_reply": "2024-11-16T08:28:22.769320Z",
     "shell.execute_reply.started": "2024-11-16T08:28:20.518550Z"
    },
    "trusted": true
   },
   "outputs": [
    {
     "name": "stdout",
     "output_type": "stream",
     "text": [
      "\u001b[1m19/19\u001b[0m \u001b[32m━━━━━━━━━━━━━━━━━━━━\u001b[0m\u001b[37m\u001b[0m \u001b[1m2s\u001b[0m 96ms/step\n"
     ]
    }
   ],
   "source": [
    "preds = model.predict(X_test)\n",
    "predicted_classes = preds.argmax(axis=1)"
   ]
  },
  {
   "cell_type": "code",
   "execution_count": 22,
   "metadata": {
    "execution": {
     "iopub.execute_input": "2024-11-16T08:28:26.253693Z",
     "iopub.status.busy": "2024-11-16T08:28:26.252775Z",
     "iopub.status.idle": "2024-11-16T08:28:26.262904Z",
     "shell.execute_reply": "2024-11-16T08:28:26.261705Z",
     "shell.execute_reply.started": "2024-11-16T08:28:26.253652Z"
    },
    "trusted": true
   },
   "outputs": [
    {
     "data": {
      "text/plain": [
       "array([3, 3, 2, 3, 1, 3, 3, 2, 1, 2, 3, 3, 3, 2, 2, 2, 3, 0, 0, 2, 3, 3,\n",
       "       2, 1, 0, 2, 2, 2, 3, 2, 3, 2, 3, 2, 0, 3, 3, 2, 1, 3, 3, 3, 2, 3,\n",
       "       2, 2, 3, 3, 2, 3, 3, 1, 2, 1, 2, 3, 2, 2, 2, 0, 3, 3, 1, 2, 2, 3,\n",
       "       2, 3, 2, 3, 1, 3, 3, 3, 2, 0, 0, 3, 1, 3, 2, 0, 3, 2, 2, 2, 2, 0,\n",
       "       3, 3, 2, 3, 3, 3, 1, 0, 3, 0, 3, 3, 3, 1, 3, 1, 2, 3, 2, 1, 2, 2,\n",
       "       1, 1, 2, 1, 1, 3, 3, 3, 2, 2, 3, 3, 3, 1, 1, 2, 3, 2, 2, 0, 3, 3,\n",
       "       1, 3, 1, 2, 3, 3, 0, 1, 2, 2, 0, 1, 3, 3, 3, 3, 2, 1, 3, 3, 3, 3,\n",
       "       3, 0, 1, 0, 3, 1, 3, 2, 2, 3, 2, 3, 3, 2, 3, 2, 3, 1, 2, 0, 3, 3,\n",
       "       2, 2, 0, 2, 3, 0, 2, 0, 3, 3, 3, 1, 2, 0, 1, 3, 2, 3, 3, 2, 3, 0,\n",
       "       3, 2, 3, 0, 2, 0, 0, 1, 2, 3, 2, 1, 3, 1, 2, 2, 2, 2, 1, 3, 1, 1,\n",
       "       1, 0, 2, 3, 3, 3, 3, 0, 1, 2, 0, 0, 3, 3, 1, 3, 3, 0, 3, 3, 1, 0,\n",
       "       0, 0, 3, 3, 3, 3, 3, 2, 3, 3, 0, 3, 2, 0, 2, 2, 2, 0, 3, 3, 2, 2,\n",
       "       3, 2, 2, 1, 2, 3, 2, 2, 2, 3, 3, 3, 3, 3, 0, 1, 0, 3, 3, 3, 3, 2,\n",
       "       2, 1, 2, 2, 0, 3, 2, 0, 2, 2, 1, 3, 2, 3, 1, 3, 3, 1, 3, 3, 0, 3,\n",
       "       3, 2, 2, 2, 1, 1, 0, 3, 3, 3, 3, 1, 3, 0, 3, 2, 2, 1, 3, 3, 3, 2,\n",
       "       3, 3, 2, 3, 3, 3, 3, 2, 1, 3, 2, 2, 2, 1, 2, 0, 3, 3, 2, 3, 2, 2,\n",
       "       2, 2, 3, 2, 0, 2, 1, 0, 2, 3, 2, 1, 3, 2, 3, 3, 3, 2, 2, 2, 2, 2,\n",
       "       2, 3, 1, 3, 3, 1, 3, 1, 3, 2, 2, 1, 0, 2, 2, 3, 2, 1, 2, 2, 3, 3,\n",
       "       3, 1, 0, 3, 0, 2, 3, 2, 2, 3, 1, 3, 3, 2, 3, 3, 1, 2, 3, 2, 2, 1,\n",
       "       1, 3, 2, 2, 3, 1, 3, 2, 2, 2, 3, 2, 0, 3, 1, 1, 2, 2, 1, 3, 2, 3,\n",
       "       3, 3, 2, 2, 3, 2, 1, 1, 2, 2, 2, 2, 2, 1, 2, 3, 3, 3, 1, 3, 2, 2,\n",
       "       2, 2, 3, 3, 0, 0, 1, 3, 3, 3, 2, 2, 2, 2, 2, 2, 1, 2, 1, 3, 3, 2,\n",
       "       2, 2, 2, 3, 3, 3, 3, 2, 3, 2, 3, 2, 3, 1, 0, 2, 2, 3, 2, 3, 0, 0,\n",
       "       1, 3, 1, 0, 3, 2, 2, 0, 2, 2, 3, 2, 3, 3, 3, 3, 1, 2, 0, 3, 2, 3,\n",
       "       2, 2, 3, 2, 2, 2, 3, 3, 2, 1, 2, 1, 0, 3, 1, 1, 3, 3, 3, 2, 2, 0,\n",
       "       3, 2, 2, 2, 2, 2, 2, 3, 2, 2, 1, 3, 2, 2, 3, 3, 2, 3, 3, 3, 3, 2,\n",
       "       3, 2, 2, 3, 2, 2])"
      ]
     },
     "execution_count": 22,
     "metadata": {},
     "output_type": "execute_result"
    }
   ],
   "source": [
    "predicted_classes"
   ]
  },
  {
   "cell_type": "code",
   "execution_count": 23,
   "metadata": {
    "execution": {
     "iopub.execute_input": "2024-11-16T08:28:34.155110Z",
     "iopub.status.busy": "2024-11-16T08:28:34.154663Z",
     "iopub.status.idle": "2024-11-16T08:28:34.160250Z",
     "shell.execute_reply": "2024-11-16T08:28:34.159055Z",
     "shell.execute_reply.started": "2024-11-16T08:28:34.155070Z"
    },
    "trusted": true
   },
   "outputs": [],
   "source": [
    "labels_new = [\"yawn\", \"no_yawn\", \"Closed\", \"Open\"]"
   ]
  },
  {
   "cell_type": "code",
   "execution_count": 31,
   "metadata": {
    "execution": {
     "iopub.execute_input": "2024-11-16T08:38:52.347021Z",
     "iopub.status.busy": "2024-11-16T08:38:52.346493Z",
     "iopub.status.idle": "2024-11-16T08:38:52.373862Z",
     "shell.execute_reply": "2024-11-16T08:38:52.372678Z",
     "shell.execute_reply.started": "2024-11-16T08:38:52.346978Z"
    },
    "trusted": true
   },
   "outputs": [
    {
     "name": "stdout",
     "output_type": "stream",
     "text": [
      "              precision    recall  f1-score   support\n",
      "\n",
      "        yawn       0.88      0.84      0.86        63\n",
      "     no_yawn       0.87      0.97      0.92        74\n",
      "      Closed       0.98      0.93      0.95       215\n",
      "        Open       0.96      0.97      0.96       226\n",
      "\n",
      "    accuracy                           0.94       578\n",
      "   macro avg       0.92      0.93      0.92       578\n",
      "weighted avg       0.94      0.94      0.94       578\n",
      "\n",
      "\n",
      "Specificity for each class:\n",
      "yawn: 0.9864\n",
      "no_yawn: 0.9782\n",
      "Closed: 0.9862\n",
      "Open: 0.9716\n",
      "\n",
      "Macro Average Specificity: 0.9806\n",
      "Weighted Average Specificity: 0.9795\n"
     ]
    }
   ],
   "source": [
    "from sklearn.metrics import classification_report, confusion_matrix\n",
    "import numpy as np\n",
    "\n",
    "# Assuming you already have the predicted classes and true labels\n",
    "predicted_classes = preds.argmax(axis=1)\n",
    "true_classes = np.argmax(y_test, axis=1)\n",
    "\n",
    "# Compute confusion matrix\n",
    "cm = confusion_matrix(true_classes, predicted_classes)\n",
    "\n",
    "# Calculate specificity for each class and store them\n",
    "specificity = {}\n",
    "supports = np.bincount(true_classes)  # Number of true instances for each class\n",
    "for i in range(cm.shape[0]):\n",
    "    # True Negatives (TN) for class i\n",
    "    TN = np.sum(cm) - np.sum(cm[i, :]) - np.sum(cm[:, i]) + cm[i, i]\n",
    "    # False Positives (FP) for class i\n",
    "    FP = np.sum(cm[:, i]) - cm[i, i]\n",
    "    specificity[i] = TN / (TN + FP)\n",
    "\n",
    "# Calculate macro average specificity\n",
    "macro_avg_specificity = np.mean(list(specificity.values()))\n",
    "\n",
    "# Calculate weighted average specificity\n",
    "weighted_avg_specificity = np.sum([specificity[i] * supports[i] for i in range(len(specificity))]) / np.sum(supports)\n",
    "\n",
    "# Print the classification report\n",
    "labels_new = [\"yawn\", \"no_yawn\", \"Closed\", \"Open\"]  # Update with your class labels\n",
    "print(classification_report(true_classes, predicted_classes, target_names=labels_new))\n",
    "\n",
    "# Print specificity for each class\n",
    "print(\"\\nSpecificity for each class:\")\n",
    "for i, label in enumerate(labels_new):\n",
    "    print(f\"{label}: {specificity[i]:.4f}\")\n",
    "\n",
    "# Print macro and weighted average specificity\n",
    "print(f\"\\nMacro Average Specificity: {macro_avg_specificity:.4f}\")\n",
    "print(f\"Weighted Average Specificity: {weighted_avg_specificity:.4f}\")\n"
   ]
  },
  {
   "cell_type": "code",
   "execution_count": 32,
   "metadata": {
    "execution": {
     "iopub.execute_input": "2024-11-16T08:39:13.759756Z",
     "iopub.status.busy": "2024-11-16T08:39:13.759338Z",
     "iopub.status.idle": "2024-11-16T08:39:13.769342Z",
     "shell.execute_reply": "2024-11-16T08:39:13.767757Z",
     "shell.execute_reply.started": "2024-11-16T08:39:13.759717Z"
    },
    "trusted": true
   },
   "outputs": [
    {
     "name": "stdout",
     "output_type": "stream",
     "text": [
      "[[ 53  10   0   0]\n",
      " [  2  72   0   0]\n",
      " [  4   0 201  10]\n",
      " [  1   1   5 219]]\n"
     ]
    }
   ],
   "source": [
    "from sklearn.metrics import confusion_matrix\n",
    "import numpy as np\n",
    "\n",
    "# Assume y_test and predicted_classes are your true and predicted labels, respectively\n",
    "# labels_new is a list of class names\n",
    "cm = confusion_matrix(np.argmax(y_test, axis=1), predicted_classes)\n",
    "\n",
    "# Print the confusion matrix\n",
    "print(cm)"
   ]
  },
  {
   "cell_type": "code",
   "execution_count": 26,
   "metadata": {
    "execution": {
     "iopub.execute_input": "2024-11-16T08:29:23.502140Z",
     "iopub.status.busy": "2024-11-16T08:29:23.501249Z",
     "iopub.status.idle": "2024-11-16T08:29:23.806698Z",
     "shell.execute_reply": "2024-11-16T08:29:23.805761Z",
     "shell.execute_reply.started": "2024-11-16T08:29:23.502096Z"
    },
    "trusted": true
   },
   "outputs": [
    {
     "data": {
      "image/png": "[encoded data removed]",
      "text/plain": [
       "<Figure size 640x480 with 2 Axes>"
      ]
     },
     "metadata": {},
     "output_type": "display_data"
    }
   ],
   "source": [
    "import matplotlib.pyplot as plt\n",
    "\n",
    "plt.imshow(cm, interpolation='nearest', cmap=plt.cm.Blues)\n",
    "plt.colorbar()\n",
    "tick_marks = np.arange(len(labels_new))\n",
    "plt.xticks(tick_marks, labels_new, rotation=90)\n",
    "plt.yticks(tick_marks, labels_new)\n",
    "plt.xlabel('Predicted Label')\n",
    "plt.ylabel('True Label')\n",
    "plt.show()"
   ]
  },
  {
   "cell_type": "code",
   "execution_count": null,
   "metadata": {},
   "outputs": [],
   "source": []
  }
 ],
 "metadata": {
  "kaggle": {
   "accelerator": "nvidiaTeslaT4",
   "dataSources": [
    {
     "datasetId": 6002054,
     "sourceId": 9794382,
     "sourceType": "datasetVersion"
    },
    {
     "datasetId": 6003488,
     "sourceId": 9796287,
     "sourceType": "datasetVersion"
    }
   ],
   "dockerImageVersionId": 30787,
   "isGpuEnabled": true,
   "isInternetEnabled": true,
   "language": "python",
   "sourceType": "notebook"
  },
  "kernelspec": {
   "display_name": "Python 3",
   "language": "python",
   "name": "python3"
  },
  "language_info": {
   "codemirror_mode": {
    "name": "ipython",
    "version": 3
   },
   "file_extension": ".py",
   "mimetype": "text/x-python",
   "name": "python",
   "nbconvert_exporter": "python",
   "pygments_lexer": "ipython3",
   "version": "3.10.14"
  }
 },
 "nbformat": 4,
 "nbformat_minor": 4
}
